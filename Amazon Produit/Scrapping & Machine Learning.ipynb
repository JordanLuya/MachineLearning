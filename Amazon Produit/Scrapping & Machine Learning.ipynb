{
 "cells": [
  {
   "cell_type": "code",
   "execution_count": 1,
   "metadata": {},
   "outputs": [],
   "source": [
    "import pandas as pd \n",
    "import string \n",
    "\n",
    "#Scrapping \n",
    "import requests\n",
    "from bs4 import BeautifulSoup\n",
    "import time\n",
    "import random\n",
    "\n",
    "#Machine Learning - Classification \n",
    "from sklearn.svm import LinearSVC\n",
    "from sklearn.metrics import confusion_matrix, f1_score\n",
    "from sklearn.model_selection import train_test_split\n",
    "from sklearn.feature_extraction.text import TfidfVectorizer\n",
    "\n",
    "#Visualisation\n",
    "import seaborn as sns\n",
    "import matplotlib.pyplot as plt \n",
    "\n",
    "#NPL \n",
    "from nltk.stem import WordNetLemmatizer\n",
    "from nltk import word_tokenize \n",
    "from nltk.corpus import stopwords"
   ]
  },
  {
   "cell_type": "code",
   "execution_count": 2,
   "metadata": {},
   "outputs": [],
   "source": [
    "head={'Accept':'text/html,application/xhtml+xm…ml;q=0.9,image/webp,*/*;q=0.8'.encode('cp1252'),\n",
    "'Accept-Encoding':'gzip, deflate, br'.encode('cp1252'),\n",
    "'Accept-Language':'fr,fr-FR;q=0.8,en-US;q=0.5,en;q=0.3'.encode('cp1252'),\n",
    "'Connection':'keep-alive'.encode('cp1252'),\n",
    "'Host':'www.amazon.fr'.encode('cp1252'),\n",
    "'TE':'Trailers'.encode('cp1252'),\n",
    "'Upgrade-Insecure-Requests':'1'.encode('cp1252'),\n",
    "'User-Agent':'Mozilla/5.0 (X11; Ubuntu; Linux x86_64; rv:74.0) Gecko/20100101 Firefox/74.0'.encode('cp1252')}"
   ]
  },
  {
   "cell_type": "markdown",
   "metadata": {},
   "source": [
    "# Scrapping Commentaires & Notes d' un Produit sur le site d'Amazon"
   ]
  },
  {
   "cell_type": "code",
   "execution_count": 3,
   "metadata": {},
   "outputs": [],
   "source": [
    "base = \"https://www.amazon.fr/Samsung-Galaxy-Dual-32GB-SM-A105F/product-reviews/B07KWX9GNV/ref=cm_cr_dp_d_show_all_btm?ie=UTF8&reviewerType=all_reviews\"\n",
    "\n",
    "commentaire = []\n",
    "notes = []\n",
    "\n",
    "for i in range(1,166):\n",
    "    url=base+\"&pageNumber=\"+str(i)\n",
    "    time.sleep(random.randrange(0, 2))\n",
    "    r=requests.get(url,headers=head)\n",
    "    soup = BeautifulSoup(r.content,\"html.parser\")\n",
    "    #class=\"a-row a-spacing-none\"\n",
    "    #class=\"a-link-normal\"\n",
    "    #for elem in soup.findAll('div',{'data-hook':'review-star-rating'}):\n",
    "    for elem in soup.findAll('div',{'class':\"a-section celwidget\"}):\n",
    "        notes.append(elem.find('span',{\"class\":\"a-icon-alt\"}).text)\n",
    "    for elem in soup.findAll('span',{'data-hook':'review-body'}) :\n",
    "        commentaire.append(elem.text.strip())"
   ]
  },
  {
   "cell_type": "code",
   "execution_count": 4,
   "metadata": {},
   "outputs": [
    {
     "name": "stdout",
     "output_type": "stream",
     "text": [
      "1644\n",
      "1644\n"
     ]
    }
   ],
   "source": [
    "## On vérifie qu' on a le meme nombre\n",
    "print(len(commentaire))\n",
    "print(len(notes))"
   ]
  },
  {
   "cell_type": "markdown",
   "metadata": {},
   "source": [
    "# Nettoyage des Données "
   ]
  },
  {
   "cell_type": "code",
   "execution_count": 7,
   "metadata": {},
   "outputs": [],
   "source": [
    "## on parcourt la liste des notes et on remplace les \",0\" par \"\" et on les transforme en int \n",
    "for i,j in enumerate(notes) : \n",
    "    if len(j[:3]) < 2:\n",
    "        notes[i] = 0\n",
    "    else:\n",
    "        notes[i] = int(notes[i][:3].replace(',0',''))"
   ]
  },
  {
   "cell_type": "code",
   "execution_count": 9,
   "metadata": {},
   "outputs": [],
   "source": [
    "##On insère nos Notes et nos Commentaires dans un dataframe\n",
    "Data = pd.DataFrame({\"note\":notes,\"commentaire\":commentaire})"
   ]
  },
  {
   "cell_type": "code",
   "execution_count": 10,
   "metadata": {},
   "outputs": [
    {
     "data": {
      "text/html": [
       "<div>\n",
       "<style scoped>\n",
       "    .dataframe tbody tr th:only-of-type {\n",
       "        vertical-align: middle;\n",
       "    }\n",
       "\n",
       "    .dataframe tbody tr th {\n",
       "        vertical-align: top;\n",
       "    }\n",
       "\n",
       "    .dataframe thead th {\n",
       "        text-align: right;\n",
       "    }\n",
       "</style>\n",
       "<table border=\"1\" class=\"dataframe\">\n",
       "  <thead>\n",
       "    <tr style=\"text-align: right;\">\n",
       "      <th></th>\n",
       "      <th>note</th>\n",
       "      <th>commentaire</th>\n",
       "    </tr>\n",
       "  </thead>\n",
       "  <tbody>\n",
       "    <tr>\n",
       "      <th>0</th>\n",
       "      <td>3</td>\n",
       "      <td>Dommage que la prise d'alimentation secteur ne...</td>\n",
       "    </tr>\n",
       "    <tr>\n",
       "      <th>1</th>\n",
       "      <td>3</td>\n",
       "      <td>Bonjour,  j'ai acheté cette appareil mais il e...</td>\n",
       "    </tr>\n",
       "    <tr>\n",
       "      <th>2</th>\n",
       "      <td>4</td>\n",
       "      <td>Rien à redire sur la qualité du téléphone pour...</td>\n",
       "    </tr>\n",
       "    <tr>\n",
       "      <th>3</th>\n",
       "      <td>5</td>\n",
       "      <td>Ravie de mon achat. Pourtant j'avais lu des av...</td>\n",
       "    </tr>\n",
       "    <tr>\n",
       "      <th>4</th>\n",
       "      <td>4</td>\n",
       "      <td>excellent telephone rapport qualité prix on ne...</td>\n",
       "    </tr>\n",
       "    <tr>\n",
       "      <th>...</th>\n",
       "      <td>...</td>\n",
       "      <td>...</td>\n",
       "    </tr>\n",
       "    <tr>\n",
       "      <th>1639</th>\n",
       "      <td>4</td>\n",
       "      <td>Good budget phone from Samsung . It was for a ...</td>\n",
       "    </tr>\n",
       "    <tr>\n",
       "      <th>1640</th>\n",
       "      <td>4</td>\n",
       "      <td>Sehr schnell geliefert gut verpackt gerne wieder</td>\n",
       "    </tr>\n",
       "    <tr>\n",
       "      <th>1641</th>\n",
       "      <td>5</td>\n",
       "      <td>Such a nice phone...</td>\n",
       "    </tr>\n",
       "    <tr>\n",
       "      <th>1642</th>\n",
       "      <td>5</td>\n",
       "      <td>Bien, barato y para lo básico va perfecto.</td>\n",
       "    </tr>\n",
       "    <tr>\n",
       "      <th>1643</th>\n",
       "      <td>5</td>\n",
       "      <td>Good</td>\n",
       "    </tr>\n",
       "  </tbody>\n",
       "</table>\n",
       "<p>1644 rows × 2 columns</p>\n",
       "</div>"
      ],
      "text/plain": [
       "      note                                        commentaire\n",
       "0        3  Dommage que la prise d'alimentation secteur ne...\n",
       "1        3  Bonjour,  j'ai acheté cette appareil mais il e...\n",
       "2        4  Rien à redire sur la qualité du téléphone pour...\n",
       "3        5  Ravie de mon achat. Pourtant j'avais lu des av...\n",
       "4        4  excellent telephone rapport qualité prix on ne...\n",
       "...    ...                                                ...\n",
       "1639     4  Good budget phone from Samsung . It was for a ...\n",
       "1640     4   Sehr schnell geliefert gut verpackt gerne wieder\n",
       "1641     5                               Such a nice phone...\n",
       "1642     5         Bien, barato y para lo básico va perfecto.\n",
       "1643     5                                               Good\n",
       "\n",
       "[1644 rows x 2 columns]"
      ]
     },
     "execution_count": 10,
     "metadata": {},
     "output_type": "execute_result"
    }
   ],
   "source": [
    "## Vérification\n",
    "Data"
   ]
  },
  {
   "cell_type": "code",
   "execution_count": 11,
   "metadata": {},
   "outputs": [
    {
     "data": {
      "text/plain": [
       "5    1032\n",
       "4     367\n",
       "1     122\n",
       "3      91\n",
       "2      32\n",
       "Name: note, dtype: int64"
      ]
     },
     "execution_count": 11,
     "metadata": {},
     "output_type": "execute_result"
    }
   ],
   "source": [
    "## On regarde le nombre de Valeurs\n",
    "Data['note'].value_counts()"
   ]
  },
  {
   "cell_type": "code",
   "execution_count": 12,
   "metadata": {},
   "outputs": [],
   "source": [
    "## On transforme les notes en les separant en deux classes 0 ou 1 \n",
    "Data.loc[Data[Data['note'] <= 3].index,'note']= 0\n",
    "Data.loc[Data[Data['note'] > 3].index,'note']= 1"
   ]
  },
  {
   "cell_type": "code",
   "execution_count": 13,
   "metadata": {},
   "outputs": [
    {
     "data": {
      "text/html": [
       "<div>\n",
       "<style scoped>\n",
       "    .dataframe tbody tr th:only-of-type {\n",
       "        vertical-align: middle;\n",
       "    }\n",
       "\n",
       "    .dataframe tbody tr th {\n",
       "        vertical-align: top;\n",
       "    }\n",
       "\n",
       "    .dataframe thead th {\n",
       "        text-align: right;\n",
       "    }\n",
       "</style>\n",
       "<table border=\"1\" class=\"dataframe\">\n",
       "  <thead>\n",
       "    <tr style=\"text-align: right;\">\n",
       "      <th></th>\n",
       "      <th>note</th>\n",
       "      <th>commentaire</th>\n",
       "    </tr>\n",
       "  </thead>\n",
       "  <tbody>\n",
       "    <tr>\n",
       "      <th>0</th>\n",
       "      <td>0</td>\n",
       "      <td>Dommage que la prise d'alimentation secteur ne...</td>\n",
       "    </tr>\n",
       "    <tr>\n",
       "      <th>1</th>\n",
       "      <td>0</td>\n",
       "      <td>Bonjour,  j'ai acheté cette appareil mais il e...</td>\n",
       "    </tr>\n",
       "    <tr>\n",
       "      <th>2</th>\n",
       "      <td>1</td>\n",
       "      <td>Rien à redire sur la qualité du téléphone pour...</td>\n",
       "    </tr>\n",
       "    <tr>\n",
       "      <th>3</th>\n",
       "      <td>1</td>\n",
       "      <td>Ravie de mon achat. Pourtant j'avais lu des av...</td>\n",
       "    </tr>\n",
       "    <tr>\n",
       "      <th>4</th>\n",
       "      <td>1</td>\n",
       "      <td>excellent telephone rapport qualité prix on ne...</td>\n",
       "    </tr>\n",
       "    <tr>\n",
       "      <th>...</th>\n",
       "      <td>...</td>\n",
       "      <td>...</td>\n",
       "    </tr>\n",
       "    <tr>\n",
       "      <th>1639</th>\n",
       "      <td>1</td>\n",
       "      <td>Good budget phone from Samsung . It was for a ...</td>\n",
       "    </tr>\n",
       "    <tr>\n",
       "      <th>1640</th>\n",
       "      <td>1</td>\n",
       "      <td>Sehr schnell geliefert gut verpackt gerne wieder</td>\n",
       "    </tr>\n",
       "    <tr>\n",
       "      <th>1641</th>\n",
       "      <td>1</td>\n",
       "      <td>Such a nice phone...</td>\n",
       "    </tr>\n",
       "    <tr>\n",
       "      <th>1642</th>\n",
       "      <td>1</td>\n",
       "      <td>Bien, barato y para lo básico va perfecto.</td>\n",
       "    </tr>\n",
       "    <tr>\n",
       "      <th>1643</th>\n",
       "      <td>1</td>\n",
       "      <td>Good</td>\n",
       "    </tr>\n",
       "  </tbody>\n",
       "</table>\n",
       "<p>1644 rows × 2 columns</p>\n",
       "</div>"
      ],
      "text/plain": [
       "      note                                        commentaire\n",
       "0        0  Dommage que la prise d'alimentation secteur ne...\n",
       "1        0  Bonjour,  j'ai acheté cette appareil mais il e...\n",
       "2        1  Rien à redire sur la qualité du téléphone pour...\n",
       "3        1  Ravie de mon achat. Pourtant j'avais lu des av...\n",
       "4        1  excellent telephone rapport qualité prix on ne...\n",
       "...    ...                                                ...\n",
       "1639     1  Good budget phone from Samsung . It was for a ...\n",
       "1640     1   Sehr schnell geliefert gut verpackt gerne wieder\n",
       "1641     1                               Such a nice phone...\n",
       "1642     1         Bien, barato y para lo básico va perfecto.\n",
       "1643     1                                               Good\n",
       "\n",
       "[1644 rows x 2 columns]"
      ]
     },
     "execution_count": 13,
     "metadata": {},
     "output_type": "execute_result"
    }
   ],
   "source": [
    "## On vérifie\n",
    "Data"
   ]
  },
  {
   "cell_type": "code",
   "execution_count": 15,
   "metadata": {},
   "outputs": [
    {
     "data": {
      "text/plain": [
       "1    1399\n",
       "0     245\n",
       "Name: note, dtype: int64"
      ]
     },
     "execution_count": 15,
     "metadata": {},
     "output_type": "execute_result"
    }
   ],
   "source": [
    "## On Vérifie qu'on a bien 2 classes \n",
    "Data['note'].value_counts()"
   ]
  },
  {
   "cell_type": "code",
   "execution_count": 16,
   "metadata": {},
   "outputs": [],
   "source": [
    "## On remplace le nom de la colonne note par label pour le nom de classe \n",
    "Data.rename(columns={'note': 'label'}, inplace=True) "
   ]
  },
  {
   "cell_type": "code",
   "execution_count": 17,
   "metadata": {},
   "outputs": [
    {
     "data": {
      "text/html": [
       "<div>\n",
       "<style scoped>\n",
       "    .dataframe tbody tr th:only-of-type {\n",
       "        vertical-align: middle;\n",
       "    }\n",
       "\n",
       "    .dataframe tbody tr th {\n",
       "        vertical-align: top;\n",
       "    }\n",
       "\n",
       "    .dataframe thead th {\n",
       "        text-align: right;\n",
       "    }\n",
       "</style>\n",
       "<table border=\"1\" class=\"dataframe\">\n",
       "  <thead>\n",
       "    <tr style=\"text-align: right;\">\n",
       "      <th></th>\n",
       "      <th>label</th>\n",
       "      <th>commentaire</th>\n",
       "    </tr>\n",
       "  </thead>\n",
       "  <tbody>\n",
       "    <tr>\n",
       "      <th>0</th>\n",
       "      <td>0</td>\n",
       "      <td>Dommage que la prise d'alimentation secteur ne...</td>\n",
       "    </tr>\n",
       "    <tr>\n",
       "      <th>1</th>\n",
       "      <td>0</td>\n",
       "      <td>Bonjour,  j'ai acheté cette appareil mais il e...</td>\n",
       "    </tr>\n",
       "    <tr>\n",
       "      <th>2</th>\n",
       "      <td>1</td>\n",
       "      <td>Rien à redire sur la qualité du téléphone pour...</td>\n",
       "    </tr>\n",
       "    <tr>\n",
       "      <th>3</th>\n",
       "      <td>1</td>\n",
       "      <td>Ravie de mon achat. Pourtant j'avais lu des av...</td>\n",
       "    </tr>\n",
       "    <tr>\n",
       "      <th>4</th>\n",
       "      <td>1</td>\n",
       "      <td>excellent telephone rapport qualité prix on ne...</td>\n",
       "    </tr>\n",
       "    <tr>\n",
       "      <th>...</th>\n",
       "      <td>...</td>\n",
       "      <td>...</td>\n",
       "    </tr>\n",
       "    <tr>\n",
       "      <th>1639</th>\n",
       "      <td>1</td>\n",
       "      <td>Good budget phone from Samsung . It was for a ...</td>\n",
       "    </tr>\n",
       "    <tr>\n",
       "      <th>1640</th>\n",
       "      <td>1</td>\n",
       "      <td>Sehr schnell geliefert gut verpackt gerne wieder</td>\n",
       "    </tr>\n",
       "    <tr>\n",
       "      <th>1641</th>\n",
       "      <td>1</td>\n",
       "      <td>Such a nice phone...</td>\n",
       "    </tr>\n",
       "    <tr>\n",
       "      <th>1642</th>\n",
       "      <td>1</td>\n",
       "      <td>Bien, barato y para lo básico va perfecto.</td>\n",
       "    </tr>\n",
       "    <tr>\n",
       "      <th>1643</th>\n",
       "      <td>1</td>\n",
       "      <td>Good</td>\n",
       "    </tr>\n",
       "  </tbody>\n",
       "</table>\n",
       "<p>1644 rows × 2 columns</p>\n",
       "</div>"
      ],
      "text/plain": [
       "      label                                        commentaire\n",
       "0         0  Dommage que la prise d'alimentation secteur ne...\n",
       "1         0  Bonjour,  j'ai acheté cette appareil mais il e...\n",
       "2         1  Rien à redire sur la qualité du téléphone pour...\n",
       "3         1  Ravie de mon achat. Pourtant j'avais lu des av...\n",
       "4         1  excellent telephone rapport qualité prix on ne...\n",
       "...     ...                                                ...\n",
       "1639      1  Good budget phone from Samsung . It was for a ...\n",
       "1640      1   Sehr schnell geliefert gut verpackt gerne wieder\n",
       "1641      1                               Such a nice phone...\n",
       "1642      1         Bien, barato y para lo básico va perfecto.\n",
       "1643      1                                               Good\n",
       "\n",
       "[1644 rows x 2 columns]"
      ]
     },
     "execution_count": 17,
     "metadata": {},
     "output_type": "execute_result"
    }
   ],
   "source": [
    "## On Vérifie\n",
    "Data"
   ]
  },
  {
   "cell_type": "code",
   "execution_count": 18,
   "metadata": {},
   "outputs": [],
   "source": [
    "## On rentre tous les mots avec peu de sens\n",
    "stop=['le','la','les','de','du','des','un','une','je','tu','j','t','il','ces','ses','son','ceux','cette',\n",
    "      'chaque','chaques','celle',\"celui\",\"ce\",\"celles\",\"cela\",\"est\"]"
   ]
  },
  {
   "cell_type": "code",
   "execution_count": 19,
   "metadata": {},
   "outputs": [],
   "source": [
    "## Fonction pour nettoyer les commentaires\n",
    "import re\n",
    "import unidecode\n",
    "\n",
    "def nettoyage(texte):\n",
    "    t=[]\n",
    "    texte=str(texte)\n",
    "    texte=unidecode.unidecode(texte).replace('\\'',' ').replace('\\n',' ')\n",
    "    # Je ne garde que les éléments non numériques et sans les . ,\n",
    "    p='([^0-9\\'\".,;]{1,})'\n",
    "    for elem in re.findall(p,texte):\n",
    "        for el in elem.split():\n",
    "            if el.lower() in stop or len(el) < 3:\n",
    "                continue\n",
    "            else :\n",
    "                t.append(el)\n",
    "    return ' '.join(t)"
   ]
  },
  {
   "cell_type": "code",
   "execution_count": 20,
   "metadata": {},
   "outputs": [
    {
     "data": {
      "text/plain": [
       "'Bonjour pas aime model autonomie pourrie voila'"
      ]
     },
     "execution_count": 20,
     "metadata": {},
     "output_type": "execute_result"
    }
   ],
   "source": [
    "## On teste\n",
    "nettoyage(\"Bonjour, je n ai pas aimé le model 48B45, son autonomie est pourrie voilà\")"
   ]
  },
  {
   "cell_type": "code",
   "execution_count": 21,
   "metadata": {},
   "outputs": [],
   "source": [
    "## On applique le Nettoyage\n",
    "Data['commentaire']= Data['commentaire'].apply(nettoyage)"
   ]
  },
  {
   "cell_type": "code",
   "execution_count": 22,
   "metadata": {},
   "outputs": [
    {
     "data": {
      "text/html": [
       "<div>\n",
       "<style scoped>\n",
       "    .dataframe tbody tr th:only-of-type {\n",
       "        vertical-align: middle;\n",
       "    }\n",
       "\n",
       "    .dataframe tbody tr th {\n",
       "        vertical-align: top;\n",
       "    }\n",
       "\n",
       "    .dataframe thead th {\n",
       "        text-align: right;\n",
       "    }\n",
       "</style>\n",
       "<table border=\"1\" class=\"dataframe\">\n",
       "  <thead>\n",
       "    <tr style=\"text-align: right;\">\n",
       "      <th></th>\n",
       "      <th>label</th>\n",
       "      <th>commentaire</th>\n",
       "    </tr>\n",
       "  </thead>\n",
       "  <tbody>\n",
       "    <tr>\n",
       "      <th>0</th>\n",
       "      <td>0</td>\n",
       "      <td>Dommage que prise alimentation secteur soit pa...</td>\n",
       "    </tr>\n",
       "    <tr>\n",
       "      <th>1</th>\n",
       "      <td>0</td>\n",
       "      <td>Bonjour achete appareil mais verrouille avec o...</td>\n",
       "    </tr>\n",
       "    <tr>\n",
       "      <th>2</th>\n",
       "      <td>1</td>\n",
       "      <td>Rien redire sur qualite telephone pour utilisa...</td>\n",
       "    </tr>\n",
       "    <tr>\n",
       "      <th>3</th>\n",
       "      <td>1</td>\n",
       "      <td>Ravie mon achat Pourtant avais avis negatifs s...</td>\n",
       "    </tr>\n",
       "    <tr>\n",
       "      <th>4</th>\n",
       "      <td>1</td>\n",
       "      <td>excellent telephone rapport qualite prix peut ...</td>\n",
       "    </tr>\n",
       "    <tr>\n",
       "      <th>...</th>\n",
       "      <td>...</td>\n",
       "      <td>...</td>\n",
       "    </tr>\n",
       "    <tr>\n",
       "      <th>1639</th>\n",
       "      <td>1</td>\n",
       "      <td>Good budget phone from Samsung was for friend</td>\n",
       "    </tr>\n",
       "    <tr>\n",
       "      <th>1640</th>\n",
       "      <td>1</td>\n",
       "      <td>Sehr schnell geliefert gut verpackt gerne wieder</td>\n",
       "    </tr>\n",
       "    <tr>\n",
       "      <th>1641</th>\n",
       "      <td>1</td>\n",
       "      <td>Such nice phone</td>\n",
       "    </tr>\n",
       "    <tr>\n",
       "      <th>1642</th>\n",
       "      <td>1</td>\n",
       "      <td>Bien barato para basico perfecto</td>\n",
       "    </tr>\n",
       "    <tr>\n",
       "      <th>1643</th>\n",
       "      <td>1</td>\n",
       "      <td>Good</td>\n",
       "    </tr>\n",
       "  </tbody>\n",
       "</table>\n",
       "<p>1644 rows × 2 columns</p>\n",
       "</div>"
      ],
      "text/plain": [
       "      label                                        commentaire\n",
       "0         0  Dommage que prise alimentation secteur soit pa...\n",
       "1         0  Bonjour achete appareil mais verrouille avec o...\n",
       "2         1  Rien redire sur qualite telephone pour utilisa...\n",
       "3         1  Ravie mon achat Pourtant avais avis negatifs s...\n",
       "4         1  excellent telephone rapport qualite prix peut ...\n",
       "...     ...                                                ...\n",
       "1639      1      Good budget phone from Samsung was for friend\n",
       "1640      1   Sehr schnell geliefert gut verpackt gerne wieder\n",
       "1641      1                                    Such nice phone\n",
       "1642      1                   Bien barato para basico perfecto\n",
       "1643      1                                               Good\n",
       "\n",
       "[1644 rows x 2 columns]"
      ]
     },
     "execution_count": 22,
     "metadata": {},
     "output_type": "execute_result"
    }
   ],
   "source": [
    "## On vérifie \n",
    "Data"
   ]
  },
  {
   "cell_type": "markdown",
   "metadata": {},
   "source": [
    "# Construction du tfidf"
   ]
  },
  {
   "cell_type": "code",
   "execution_count": 23,
   "metadata": {},
   "outputs": [],
   "source": [
    "from sklearn.feature_extraction.text import TfidfVectorizer\n",
    "#vectorizer = TfidfVectorizer(ngram_range=(1, 2),min_df=4)\n",
    "vectorizer = TfidfVectorizer(min_df=4)\n",
    "X = vectorizer.fit_transform(Data['commentaire'])"
   ]
  },
  {
   "cell_type": "code",
   "execution_count": 24,
   "metadata": {},
   "outputs": [
    {
     "data": {
      "text/plain": [
       "array([[0., 0., 0., ..., 0., 0., 0.],\n",
       "       [0., 0., 0., ..., 0., 0., 0.],\n",
       "       [0., 0., 0., ..., 0., 0., 0.],\n",
       "       ...,\n",
       "       [0., 0., 0., ..., 0., 0., 0.],\n",
       "       [0., 0., 0., ..., 0., 0., 0.],\n",
       "       [0., 0., 0., ..., 0., 0., 0.]])"
      ]
     },
     "execution_count": 24,
     "metadata": {},
     "output_type": "execute_result"
    }
   ],
   "source": [
    "X.toarray()"
   ]
  },
  {
   "cell_type": "code",
   "execution_count": 25,
   "metadata": {},
   "outputs": [
    {
     "data": {
      "text/plain": [
       "805"
      ]
     },
     "execution_count": 25,
     "metadata": {},
     "output_type": "execute_result"
    }
   ],
   "source": [
    "len(vectorizer.get_feature_names())"
   ]
  },
  {
   "cell_type": "markdown",
   "metadata": {},
   "source": [
    "# Modelisation"
   ]
  },
  {
   "cell_type": "code",
   "execution_count": 26,
   "metadata": {},
   "outputs": [],
   "source": [
    "X=X\n",
    "y=Data['label']"
   ]
  },
  {
   "cell_type": "code",
   "execution_count": 29,
   "metadata": {},
   "outputs": [],
   "source": [
    "from sklearn.metrics import roc_curve , auc "
   ]
  },
  {
   "cell_type": "code",
   "execution_count": 31,
   "metadata": {},
   "outputs": [],
   "source": [
    "## Préparation du dataset de train et set \n",
    "from sklearn.model_selection import train_test_split\n",
    "X_train, X_test, y_train, y_test = train_test_split(X, y, test_size=0.3)"
   ]
  },
  {
   "cell_type": "markdown",
   "metadata": {},
   "source": [
    "# Entrainement"
   ]
  },
  {
   "cell_type": "code",
   "execution_count": 85,
   "metadata": {},
   "outputs": [
    {
     "name": "stdout",
     "output_type": "stream",
     "text": [
      "0.8481781376518218\n"
     ]
    }
   ],
   "source": [
    "from sklearn.linear_model import LogisticRegression\n",
    "clf = LogisticRegression()\n",
    "clf.fit(X_train, y_train)\n",
    "print(clf.score(X_test, y_test))\n",
    "y_pred = clf.decision_function(X_test)"
   ]
  },
  {
   "cell_type": "code",
   "execution_count": 91,
   "metadata": {},
   "outputs": [
    {
     "name": "stdout",
     "output_type": "stream",
     "text": [
      "0.8724696356275303\n"
     ]
    }
   ],
   "source": [
    "from sklearn import svm\n",
    "clf = svm.LinearSVC()\n",
    "clf.fit(X_train, y_train)  \n",
    "print(clf.score(X_test, y_test))\n",
    "svm_pred = clf.decision_function(X_test)"
   ]
  },
  {
   "cell_type": "code",
   "execution_count": 96,
   "metadata": {},
   "outputs": [
    {
     "name": "stdout",
     "output_type": "stream",
     "text": [
      "0.8623481781376519\n"
     ]
    }
   ],
   "source": [
    "from sklearn.ensemble import RandomForestClassifier\n",
    "clf = RandomForestClassifier()\n",
    "clf.fit(X_train, y_train)\n",
    "print(clf.score(X_test, y_test))\n",
    "random_pred = clf.predict_proba(X_test)"
   ]
  },
  {
   "cell_type": "code",
   "execution_count": 102,
   "metadata": {},
   "outputs": [
    {
     "name": "stdout",
     "output_type": "stream",
     "text": [
      "0.8522267206477733\n"
     ]
    }
   ],
   "source": [
    "from sklearn.linear_model import SGDClassifier\n",
    "clf = SGDClassifier().fit(X_train, y_train)\n",
    "print(clf.score(X_test, y_test))\n",
    "SGD_pred = clf.decision_function(X_test)"
   ]
  },
  {
   "cell_type": "code",
   "execution_count": 106,
   "metadata": {},
   "outputs": [
    {
     "data": {
      "image/png": "[encoded data removed]",
      "text/plain": [
       "<Figure size 500x500 with 1 Axes>"
      ]
     },
     "metadata": {
      "needs_background": "light"
     },
     "output_type": "display_data"
    }
   ],
   "source": [
    "## On utilise le Roc AUC car notre dataset est biaisé il y a beaucoup\n",
    "## plus de 1 que de 0 \n",
    "\n",
    "logistic_fpr, logistic_tpr, threshold = roc_curve(y_test,y_pred)\n",
    "auc_logistic = auc(logistic_fpr, logistic_tpr)\n",
    "\n",
    "svm_fpr, svm_tpr, threshold = roc_curve(y_test, svm_pred)\n",
    "auc_svm = auc(svm_fpr, svm_tpr)\n",
    "\n",
    "random_fpr, random_tpr, threshold = roc_curve(y_test, random_pred[:,1])\n",
    "auc_random = auc(random_fpr, random_tpr)\n",
    "\n",
    "sgd_fpr, sgd_tpr, threshold = roc_curve(y_test, SGD_pred)\n",
    "auc_sgd = auc(sgd_fpr, sgd_tpr)\n",
    "\n",
    "\n",
    "plt.figure(figsize=(5, 5), dpi=100)\n",
    "\n",
    "plt.plot(logistic_fpr, logistic_tpr, marker='.', label='Logistic (auc = %0.3f)' % auc_logistic)\n",
    "plt.plot(svm_fpr, svm_tpr, marker='.', label='SVM (auc = %0.3f)' % auc_svm)\n",
    "plt.plot(random_fpr, random_tpr, marker='.', label='random (auc = %0.3f)' % auc_random)\n",
    "plt.plot(sgd_fpr, sgd_tpr, marker='.', label='SGD (auc = %0.3f)' % auc_sgd)\n",
    "\n",
    "plt.xlabel('False Positive Rate -->')\n",
    "plt.ylabel('True Positive Rate -->')\n",
    "\n",
    "plt.legend()\n",
    "\n",
    "plt.show()"
   ]
  },
  {
   "cell_type": "code",
   "execution_count": null,
   "metadata": {},
   "outputs": [],
   "source": []
  }
 ],
 "metadata": {
  "kernelspec": {
   "display_name": "Python 3",
   "language": "python",
   "name": "python3"
  },
  "language_info": {
   "codemirror_mode": {
    "name": "ipython",
    "version": 3
   },
   "file_extension": ".py",
   "mimetype": "text/x-python",
   "name": "python",
   "nbconvert_exporter": "python",
   "pygments_lexer": "ipython3",
   "version": "3.7.1"
  }
 },
 "nbformat": 4,
 "nbformat_minor": 2
}
